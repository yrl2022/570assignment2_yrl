{
 "cells": [
  {
   "cell_type": "markdown",
   "id": "dd98403d",
   "metadata": {},
   "source": [
    "# Assignment2_570_youranli"
   ]
  },
  {
   "cell_type": "code",
   "execution_count": 276,
   "id": "132133d4",
   "metadata": {},
   "outputs": [],
   "source": [
    "import pandas as pd\n",
    "import numpy as np\n",
    "import random\n",
    "import statsmodels.api as sm\n",
    "from sklearn.model_selection import cross_val_score\n",
    "from sklearn.model_selection import RepeatedKFold\n",
    "from sklearn.linear_model import Lasso\n",
    "from sklearn.feature_selection import SelectFromModel\n",
    "import matplotlib.pyplot as plt\n",
    "import graphviz as gr\n",
    "from tqdm import tqdm\n",
    "import csv\n",
    "random.seed(10)"
   ]
  },
  {
   "cell_type": "code",
   "execution_count": 277,
   "id": "3a84e3e0",
   "metadata": {},
   "outputs": [],
   "source": [
    "def fn_variance(data, ddof=0):\n",
    "    n = len(data)\n",
    "    mean = sum(data) / n\n",
    "    return sum((x - mean) ** 2 for x in data) / (n - ddof)\n",
    "# Note this is equivalent to np.var(Yt,ddof)"
   ]
  },
  {
   "cell_type": "code",
   "execution_count": 278,
   "id": "428361b5",
   "metadata": {},
   "outputs": [],
   "source": [
    "def fn_generate_cov(dim):\n",
    "    acc  = []\n",
    "    for i in range(dim):\n",
    "        row = np.ones((1,dim)) * corr\n",
    "        row[0][i] = 1\n",
    "        acc.append(row)\n",
    "    return np.concatenate(acc,axis=0)\n",
    "\n",
    "def fn_generate_multnorm(nobs,corr,nvar):\n",
    "\n",
    "    mu = np.zeros(nvar)\n",
    "    std = (np.abs(np.random.normal(loc = 1, scale = .5,size = (nvar,1))))**(1/2)\n",
    "    # generate random normal distribution\n",
    "    acc = []\n",
    "    for i in range(nvar):\n",
    "        acc.append(np.reshape(np.random.normal(mu[i],std[i],nobs),(nobs,-1)))\n",
    "    \n",
    "    normvars = np.concatenate(acc,axis=1)\n",
    "\n",
    "    cov = fn_generate_cov(nvar)\n",
    "    C = np.linalg.cholesky(cov)\n",
    "\n",
    "    Y = np.transpose(np.dot(C,np.transpose(normvars)))\n",
    "\n",
    "#     return (Y,np.round(np.corrcoef(Y,rowvar=False),2))\n",
    "    return Y\n",
    "\n",
    "def fn_randomize_treatment(N,p=0.5):\n",
    "    treated = random.sample(range(N), round(N*p))\n",
    "    return np.array([(1 if i in treated else 0) for i in range(N)]).reshape([N,1])\n"
   ]
  },
  {
   "cell_type": "code",
   "execution_count": 279,
   "id": "11be14ed",
   "metadata": {},
   "outputs": [],
   "source": [
    "def fn_tauhat_means(Yt,Yc):\n",
    "    nt = len(Yt)\n",
    "    nc = len(Yc)\n",
    "    tauhat = np.mean(Yt)-np.mean(Yc)\n",
    "    se_tauhat = (np.var(Yt,ddof=1)/nt+np.var(Yc,ddof=1)/nc)**(1/2)\n",
    "    return (tauhat,se_tauhat)\n",
    "\n",
    "def fn_bias_rmse_size(theta0,thetahat,se_thetahat,cval = 1.96):\n",
    "    \"\"\"\n",
    "    theta0 - true parameter value\n",
    "    thetatahat - estimated parameter value\n",
    "    se_thetahat - estiamted se of thetahat\n",
    "    \"\"\"\n",
    "    b = thetahat - theta0\n",
    "    bias = np.mean(b)\n",
    "    rmse = np.sqrt(np.mean(b**2))\n",
    "    tval = b/se_thetahat # paramhat/se_paramhat H0: theta = 0\n",
    "    size = np.mean(1*(np.abs(tval)>cval))\n",
    "    # note size calculated at true parameter value\n",
    "    return (bias,rmse,size)\n"
   ]
  },
  {
   "cell_type": "markdown",
   "id": "b4673885",
   "metadata": {},
   "source": [
    "# 1.Covariates"
   ]
  },
  {
   "cell_type": "code",
   "execution_count": 280,
   "id": "175bfe7f",
   "metadata": {},
   "outputs": [],
   "source": [
    "# Step1:simulate DGP\n",
    "\n",
    "def fn_generate_data_cov(tau,N,p,p0,corr,flagX):\n",
    "    \"\"\"\n",
    "    p0(int): number of covariates with nonzero coefficients\n",
    "    \"\"\"\n",
    "    nvar = p+2 \n",
    "    corr = 0.5 \n",
    "\n",
    "        \n",
    "    allX = fn_generate_multnorm(N,corr,nvar)\n",
    "    W0 = allX[:,0].reshape([N,1]) # variable for RDD assignment\n",
    "    C = allX[:,1].reshape([N,1]) # confounder\n",
    "    X = allX[:,2:] # observed covariates\n",
    "    \n",
    "    T = fn_randomize_treatment(N) # choose treated units\n",
    "    err = np.random.normal(0,1,[N,1])\n",
    "    beta0 = np.random.normal(5,5,[p,1])\n",
    "    \n",
    "    beta0[p0:p] = 0 # sparse model\n",
    "    Yab = tau*T+X@beta0+err\n",
    "    \n",
    "    if flagX==1:\n",
    "        return (Yab,T)\n",
    "    elif flagX==2:\n",
    "        return (Yab,T,X)"
   ]
  },
  {
   "cell_type": "code",
   "execution_count": 281,
   "id": "942c1a34",
   "metadata": {},
   "outputs": [],
   "source": [
    "tau = 4\n",
    "corr = 0.5\n",
    "p = 10\n",
    "p0 = 10\n",
    "N = 1000\n",
    "flagX = 2\n",
    "Yab,T,X = fn_generate_data_cov(tau,N,p,p0,corr,flagX)\n",
    "\n",
    "with open('covariates.csv', 'w') as out_file: \n",
    "    writer = csv.writer(out_file)\n",
    "    writer.writerow(['Yab', 'T', 'X'])\n",
    "    for k in range(len(Yab)): \n",
    "        writer.writerow([Yab[k], T[k], X[k]])"
   ]
  },
  {
   "cell_type": "code",
   "execution_count": 282,
   "id": "56c57b15",
   "metadata": {},
   "outputs": [
    {
     "data": {
      "image/svg+xml": [
       "<?xml version=\"1.0\" encoding=\"UTF-8\" standalone=\"no\"?>\n",
       "<!DOCTYPE svg PUBLIC \"-//W3C//DTD SVG 1.1//EN\"\n",
       " \"http://www.w3.org/Graphics/SVG/1.1/DTD/svg11.dtd\">\n",
       "<!-- Generated by graphviz version 3.0.0 (20220226.1711)\n",
       " -->\n",
       "<!-- Pages: 1 -->\n",
       "<svg width=\"278pt\" height=\"116pt\"\n",
       " viewBox=\"0.00 0.00 278.00 116.00\" xmlns=\"http://www.w3.org/2000/svg\" xmlns:xlink=\"http://www.w3.org/1999/xlink\">\n",
       "<g id=\"graph0\" class=\"graph\" transform=\"scale(1 1) rotate(0) translate(4 112)\">\n",
       "<polygon fill=\"white\" stroke=\"transparent\" points=\"-4,4 -4,-112 274,-112 274,4 -4,4\"/>\n",
       "<!-- X1 -->\n",
       "<g id=\"node1\" class=\"node\">\n",
       "<title>X1</title>\n",
       "<ellipse fill=\"none\" stroke=\"black\" cx=\"27\" cy=\"-90\" rx=\"27\" ry=\"18\"/>\n",
       "<text text-anchor=\"middle\" x=\"27\" y=\"-86.3\" font-family=\"Times New Roman,serif\" font-size=\"14.00\">X1</text>\n",
       "</g>\n",
       "<!-- Yab -->\n",
       "<g id=\"node2\" class=\"node\">\n",
       "<title>Yab</title>\n",
       "<ellipse fill=\"none\" stroke=\"black\" cx=\"135\" cy=\"-18\" rx=\"27\" ry=\"18\"/>\n",
       "<text text-anchor=\"middle\" x=\"135\" y=\"-14.3\" font-family=\"Times New Roman,serif\" font-size=\"14.00\">Yab</text>\n",
       "</g>\n",
       "<!-- X1&#45;&gt;Yab -->\n",
       "<g id=\"edge1\" class=\"edge\">\n",
       "<title>X1&#45;&gt;Yab</title>\n",
       "<path fill=\"none\" stroke=\"black\" d=\"M45.81,-76.81C63,-65.67 88.62,-49.06 107.99,-36.5\"/>\n",
       "<polygon fill=\"black\" stroke=\"black\" points=\"109.92,-39.43 116.4,-31.05 106.11,-33.56 109.92,-39.43\"/>\n",
       "</g>\n",
       "<!-- X2 -->\n",
       "<g id=\"node3\" class=\"node\">\n",
       "<title>X2</title>\n",
       "<ellipse fill=\"none\" stroke=\"black\" cx=\"99\" cy=\"-90\" rx=\"27\" ry=\"18\"/>\n",
       "<text text-anchor=\"middle\" x=\"99\" y=\"-86.3\" font-family=\"Times New Roman,serif\" font-size=\"14.00\">X2</text>\n",
       "</g>\n",
       "<!-- X2&#45;&gt;Yab -->\n",
       "<g id=\"edge2\" class=\"edge\">\n",
       "<title>X2&#45;&gt;Yab</title>\n",
       "<path fill=\"none\" stroke=\"black\" d=\"M107.35,-72.76C111.71,-64.28 117.15,-53.71 122.04,-44.2\"/>\n",
       "<polygon fill=\"black\" stroke=\"black\" points=\"125.23,-45.64 126.7,-35.15 119.01,-42.44 125.23,-45.64\"/>\n",
       "</g>\n",
       "<!-- X3 -->\n",
       "<g id=\"node4\" class=\"node\">\n",
       "<title>X3</title>\n",
       "<ellipse fill=\"none\" stroke=\"black\" cx=\"171\" cy=\"-90\" rx=\"27\" ry=\"18\"/>\n",
       "<text text-anchor=\"middle\" x=\"171\" y=\"-86.3\" font-family=\"Times New Roman,serif\" font-size=\"14.00\">X3</text>\n",
       "</g>\n",
       "<!-- X3&#45;&gt;Yab -->\n",
       "<g id=\"edge3\" class=\"edge\">\n",
       "<title>X3&#45;&gt;Yab</title>\n",
       "<path fill=\"none\" stroke=\"black\" d=\"M162.65,-72.76C158.29,-64.28 152.85,-53.71 147.96,-44.2\"/>\n",
       "<polygon fill=\"black\" stroke=\"black\" points=\"150.99,-42.44 143.3,-35.15 144.77,-45.64 150.99,-42.44\"/>\n",
       "</g>\n",
       "<!-- T -->\n",
       "<g id=\"node5\" class=\"node\">\n",
       "<title>T</title>\n",
       "<ellipse fill=\"none\" stroke=\"black\" cx=\"243\" cy=\"-90\" rx=\"27\" ry=\"18\"/>\n",
       "<text text-anchor=\"middle\" x=\"243\" y=\"-86.3\" font-family=\"Times New Roman,serif\" font-size=\"14.00\">T</text>\n",
       "</g>\n",
       "<!-- T&#45;&gt;Yab -->\n",
       "<g id=\"edge4\" class=\"edge\">\n",
       "<title>T&#45;&gt;Yab</title>\n",
       "<path fill=\"none\" stroke=\"black\" d=\"M224.19,-76.81C207,-65.67 181.38,-49.06 162.01,-36.5\"/>\n",
       "<polygon fill=\"black\" stroke=\"black\" points=\"163.89,-33.56 153.6,-31.05 160.08,-39.43 163.89,-33.56\"/>\n",
       "</g>\n",
       "</g>\n",
       "</svg>\n"
      ],
      "text/plain": [
       "<graphviz.graphs.Digraph at 0x25a1a6dcee0>"
      ]
     },
     "execution_count": 282,
     "metadata": {},
     "output_type": "execute_result"
    }
   ],
   "source": [
    "# step2: DOG\n",
    "\n",
    "g = gr.Digraph()\n",
    "g.edge(\"X1\", \"Yab\")\n",
    "g.edge(\"X2\", \"Yab\")\n",
    "g.edge(\"X3\", \"Yab\")\n",
    "g.edge(\"T\", \"Yab\")\n",
    "g"
   ]
  },
  {
   "cell_type": "code",
   "execution_count": 283,
   "id": "581ae73d",
   "metadata": {},
   "outputs": [],
   "source": [
    "# step3: Monte Carlo experiment"
   ]
  },
  {
   "cell_type": "code",
   "execution_count": 284,
   "id": "97649eb0",
   "metadata": {},
   "outputs": [
    {
     "name": "stderr",
     "output_type": "stream",
     "text": [
      "100%|██████████| 2000/2000 [00:01<00:00, 1350.54it/s]\n",
      "100%|██████████| 2000/2000 [00:14<00:00, 139.63it/s]\n"
     ]
    }
   ],
   "source": [
    "## a. don't control for any covariates\n",
    "\n",
    "# the function of DGP: fn_generate_data_cov(tau,N,p,p0,corr,flagX)\n",
    "estDict = {}\n",
    "R = 2000\n",
    "for N in [100,1000]:\n",
    "    tauhats = []\n",
    "    sehats = []\n",
    "    for r in tqdm(range(R)):\n",
    "        flagX = 1\n",
    "        Yexp,T = fn_generate_data_cov(4,N,10,10,corr,flagX)\n",
    "        Yt = Yexp[np.where(T==1)[0],:]\n",
    "        Yc = Yexp[np.where(T==0)[0],:]\n",
    "        tauhat,se_tauhat = fn_tauhat_means(Yt,Yc)\n",
    "        tauhats = tauhats + [tauhat]\n",
    "        sehats = sehats + [se_tauhat]\n",
    "    estDict[N] = {\n",
    "        'tauhat':np.array(tauhats).reshape([len(tauhats),1]),\n",
    "        'sehat':np.array(sehats).reshape([len(sehats),1])\n",
    "    }"
   ]
  },
  {
   "cell_type": "code",
   "execution_count": 285,
   "id": "bb5b0384",
   "metadata": {},
   "outputs": [
    {
     "name": "stdout",
     "output_type": "stream",
     "text": [
      "N=100: bias=-0.38507366286329675, RMSE=8.23904937508927, size=0.0545\n",
      "N=1000: bias=-0.034051557507883946, RMSE=2.4958932267195557, size=0.047\n"
     ]
    }
   ],
   "source": [
    "tau0 = tau*np.ones([R,1])\n",
    "for N, results in estDict.items():\n",
    "    (bias,rmse,size) = fn_bias_rmse_size(tau0,results['tauhat'],\n",
    "                                         results['sehat'])\n",
    "    print(f'N={N}: bias={bias}, RMSE={rmse}, size={size}')\n",
    "    "
   ]
  },
  {
   "cell_type": "code",
   "execution_count": 286,
   "id": "82565835",
   "metadata": {},
   "outputs": [
    {
     "name": "stderr",
     "output_type": "stream",
     "text": [
      "100%|██████████| 2000/2000 [00:02<00:00, 745.21it/s]\n",
      "100%|██████████| 2000/2000 [00:16<00:00, 121.77it/s]\n"
     ]
    }
   ],
   "source": [
    "## b. control for all the covariates that affect the outcome\n",
    "\n",
    "# the function of DGP: fn_generate_data_cov(tau,N,p,p0,corr,flagX)\n",
    "estDict = {}\n",
    "R = 2000\n",
    "for N in [100,1000]:\n",
    "    tauhats = []\n",
    "    sehats = []\n",
    "    for r in tqdm(range(R)):\n",
    "        flagX = 2\n",
    "        Yexp,T,X = fn_generate_data_cov(4,N,10,10,corr,flagX)\n",
    "        Xobs = X[:,:p0]\n",
    "        covars = np.concatenate([T,Xobs],axis = 1)\n",
    "        mod = sm.OLS(Yexp,covars)\n",
    "        res = mod.fit()\n",
    "        tauhat = res.params[0]\n",
    "        se_tauhat = res.HC1_se[0]\n",
    "        \n",
    "        tauhats = tauhats + [tauhat]\n",
    "        sehats = sehats + [se_tauhat]\n",
    "    estDict[N] = {\n",
    "        'tauhat':np.array(tauhats).reshape([len(tauhats),1]),\n",
    "        'sehat':np.array(sehats).reshape([len(sehats),1])\n",
    "    }"
   ]
  },
  {
   "cell_type": "code",
   "execution_count": 287,
   "id": "411a8cb7",
   "metadata": {
    "scrolled": true
   },
   "outputs": [
    {
     "name": "stdout",
     "output_type": "stream",
     "text": [
      "N=100: bias=-0.0010645805571140555, RMSE=0.14753443939729613, size=0.051\n",
      "N=1000: bias=0.0001668813614081659, RMSE=0.04585043035326293, size=0.057\n"
     ]
    }
   ],
   "source": [
    "tau0 = tau*np.ones([R,1])\n",
    "for N, results in estDict.items():\n",
    "    (bias,rmse,size) = fn_bias_rmse_size(tau0,results['tauhat'],\n",
    "                                         results['sehat'])\n",
    "    print(f'N={N}: bias={bias}, RMSE={rmse}, size={size}')\n",
    "    "
   ]
  },
  {
   "cell_type": "markdown",
   "id": "ef6e3cba",
   "metadata": {},
   "source": [
    "By comparison, we can find that after controlling other relevant covariates in the model, the bias of parameter estimation for treatment decreases significantly and gradually approaches zero. Moreover, the larger the sample size, the smaller the error of estimation."
   ]
  },
  {
   "cell_type": "code",
   "execution_count": 288,
   "id": "d2c47704",
   "metadata": {},
   "outputs": [
    {
     "data": {
      "image/svg+xml": [
       "<?xml version=\"1.0\" encoding=\"UTF-8\" standalone=\"no\"?>\n",
       "<!DOCTYPE svg PUBLIC \"-//W3C//DTD SVG 1.1//EN\"\n",
       " \"http://www.w3.org/Graphics/SVG/1.1/DTD/svg11.dtd\">\n",
       "<!-- Generated by graphviz version 3.0.0 (20220226.1711)\n",
       " -->\n",
       "<!-- Pages: 1 -->\n",
       "<svg width=\"575pt\" height=\"116pt\"\n",
       " viewBox=\"0.00 0.00 574.84 116.00\" xmlns=\"http://www.w3.org/2000/svg\" xmlns:xlink=\"http://www.w3.org/1999/xlink\">\n",
       "<g id=\"graph0\" class=\"graph\" transform=\"scale(1 1) rotate(0) translate(4 112)\">\n",
       "<polygon fill=\"white\" stroke=\"transparent\" points=\"-4,4 -4,-112 570.84,-112 570.84,4 -4,4\"/>\n",
       "<!-- Competitive product price -->\n",
       "<g id=\"node1\" class=\"node\">\n",
       "<title>Competitive product price</title>\n",
       "<ellipse fill=\"none\" stroke=\"black\" cx=\"106.59\" cy=\"-90\" rx=\"106.68\" ry=\"18\"/>\n",
       "<text text-anchor=\"middle\" x=\"106.59\" y=\"-86.3\" font-family=\"Times New Roman,serif\" font-size=\"14.00\">Competitive product price</text>\n",
       "</g>\n",
       "<!-- Sale -->\n",
       "<g id=\"node2\" class=\"node\">\n",
       "<title>Sale</title>\n",
       "<ellipse fill=\"none\" stroke=\"black\" cx=\"370.59\" cy=\"-18\" rx=\"27\" ry=\"18\"/>\n",
       "<text text-anchor=\"middle\" x=\"370.59\" y=\"-14.3\" font-family=\"Times New Roman,serif\" font-size=\"14.00\">Sale</text>\n",
       "</g>\n",
       "<!-- Competitive product price&#45;&gt;Sale -->\n",
       "<g id=\"edge1\" class=\"edge\">\n",
       "<title>Competitive product price&#45;&gt;Sale</title>\n",
       "<path fill=\"none\" stroke=\"black\" d=\"M161.29,-74.5C213.83,-60.56 291.61,-39.94 336.06,-28.15\"/>\n",
       "<polygon fill=\"black\" stroke=\"black\" points=\"337.05,-31.51 345.82,-25.57 335.26,-24.75 337.05,-31.51\"/>\n",
       "</g>\n",
       "<!-- customer loyalty -->\n",
       "<g id=\"node3\" class=\"node\">\n",
       "<title>customer loyalty</title>\n",
       "<ellipse fill=\"none\" stroke=\"black\" cx=\"301.59\" cy=\"-90\" rx=\"70.69\" ry=\"18\"/>\n",
       "<text text-anchor=\"middle\" x=\"301.59\" y=\"-86.3\" font-family=\"Times New Roman,serif\" font-size=\"14.00\">customer loyalty</text>\n",
       "</g>\n",
       "<!-- customer loyalty&#45;&gt;Sale -->\n",
       "<g id=\"edge2\" class=\"edge\">\n",
       "<title>customer loyalty&#45;&gt;Sale</title>\n",
       "<path fill=\"none\" stroke=\"black\" d=\"M317.94,-72.41C327.22,-63 338.93,-51.12 348.96,-40.94\"/>\n",
       "<polygon fill=\"black\" stroke=\"black\" points=\"351.7,-43.15 356.23,-33.57 346.72,-38.24 351.7,-43.15\"/>\n",
       "</g>\n",
       "<!-- seasonality -->\n",
       "<g id=\"node4\" class=\"node\">\n",
       "<title>seasonality</title>\n",
       "<ellipse fill=\"none\" stroke=\"black\" cx=\"440.59\" cy=\"-90\" rx=\"50.09\" ry=\"18\"/>\n",
       "<text text-anchor=\"middle\" x=\"440.59\" y=\"-86.3\" font-family=\"Times New Roman,serif\" font-size=\"14.00\">seasonality</text>\n",
       "</g>\n",
       "<!-- seasonality&#45;&gt;Sale -->\n",
       "<g id=\"edge3\" class=\"edge\">\n",
       "<title>seasonality&#45;&gt;Sale</title>\n",
       "<path fill=\"none\" stroke=\"black\" d=\"M424.36,-72.76C414.87,-63.27 402.76,-51.17 392.44,-40.85\"/>\n",
       "<polygon fill=\"black\" stroke=\"black\" points=\"394.85,-38.31 385.31,-33.72 389.9,-43.26 394.85,-38.31\"/>\n",
       "</g>\n",
       "<!-- Price -->\n",
       "<g id=\"node5\" class=\"node\">\n",
       "<title>Price</title>\n",
       "<ellipse fill=\"none\" stroke=\"black\" cx=\"537.59\" cy=\"-90\" rx=\"29.5\" ry=\"18\"/>\n",
       "<text text-anchor=\"middle\" x=\"537.59\" y=\"-86.3\" font-family=\"Times New Roman,serif\" font-size=\"14.00\">Price</text>\n",
       "</g>\n",
       "<!-- Price&#45;&gt;Sale -->\n",
       "<g id=\"edge4\" class=\"edge\">\n",
       "<title>Price&#45;&gt;Sale</title>\n",
       "<path fill=\"none\" stroke=\"black\" d=\"M514.73,-78.64C509.75,-76.42 504.51,-74.11 499.59,-72 466.84,-57.95 429.1,-42.53 402.94,-31.97\"/>\n",
       "<polygon fill=\"black\" stroke=\"black\" points=\"404.1,-28.66 393.52,-28.17 401.48,-35.16 404.1,-28.66\"/>\n",
       "</g>\n",
       "</g>\n",
       "</svg>\n"
      ],
      "text/plain": [
       "<graphviz.graphs.Digraph at 0x25a1a6dc190>"
      ]
     },
     "execution_count": 288,
     "metadata": {},
     "output_type": "execute_result"
    }
   ],
   "source": [
    "# step4: example of covariates\n",
    "\n",
    "g = gr.Digraph()\n",
    "g.edge(\"Competitive product price\", \"Sale\")\n",
    "g.edge(\"customer loyalty\", \"Sale\")\n",
    "g.edge(\"seasonality\", \"Sale\")\n",
    "g.edge(\"Price\", \"Sale\")\n",
    "g"
   ]
  },
  {
   "cell_type": "markdown",
   "id": "467ea2b4",
   "metadata": {},
   "source": [
    "For example, we want to estimate the effect of product price on sales volume. In addition to the Price of the product itself, we should also consider user loyalty, seasonality of the product and price of competitive products, etc., which will affect the sales of the product at the same time."
   ]
  },
  {
   "cell_type": "markdown",
   "id": "69b6c20a",
   "metadata": {},
   "source": [
    "# 2. Confounders(common reason)"
   ]
  },
  {
   "cell_type": "code",
   "execution_count": 289,
   "id": "96d11aa7",
   "metadata": {},
   "outputs": [],
   "source": [
    "# Step1:simulate DGP\n",
    "\n",
    "def fn_generate_data_con(tau,N,p,corr,flagC):\n",
    "\n",
    "    nvar = p+1\n",
    "    corr = 0.5\n",
    "    \n",
    "    allX = fn_generate_multnorm(N,corr,nvar)\n",
    "    C = allX[:,1].reshape([N,1])\n",
    "    T = fn_randomize_treatment(N,p=0.5) # choose treated units\n",
    "    err = np.random.normal(0,1,[N,1])\n",
    "    Tcon = T+0.3*C\n",
    "    Yc = tau*Tcon+0.6*C+err\n",
    "    \n",
    "    if flagC==1:\n",
    "        return (Yc,Tcon)\n",
    "    elif flagC==2:\n",
    "        return (Yc,Tcon,C)\n"
   ]
  },
  {
   "cell_type": "code",
   "execution_count": 290,
   "id": "e66902e2",
   "metadata": {},
   "outputs": [],
   "source": [
    "tau = 4\n",
    "corr = 0.5\n",
    "N = 1000\n",
    "p = 10\n",
    "flagC = 2\n",
    "Yc,Tcon,C = fn_generate_data_con(tau,N,p,corr,flagC)\n",
    "\n",
    "with open('confouders.csv', 'w') as out_file: \n",
    "    writer = csv.writer(out_file)\n",
    "    writer.writerow(['Yc', 'Tcon', 'C'])\n",
    "    for k in range(len(Yab)): \n",
    "        writer.writerow([Yc[k], Tcon[k], C[k]])"
   ]
  },
  {
   "cell_type": "code",
   "execution_count": 291,
   "id": "862d58c7",
   "metadata": {
    "scrolled": false
   },
   "outputs": [
    {
     "data": {
      "image/svg+xml": [
       "<?xml version=\"1.0\" encoding=\"UTF-8\" standalone=\"no\"?>\n",
       "<!DOCTYPE svg PUBLIC \"-//W3C//DTD SVG 1.1//EN\"\n",
       " \"http://www.w3.org/Graphics/SVG/1.1/DTD/svg11.dtd\">\n",
       "<!-- Generated by graphviz version 3.0.0 (20220226.1711)\n",
       " -->\n",
       "<!-- Pages: 1 -->\n",
       "<svg width=\"89pt\" height=\"188pt\"\n",
       " viewBox=\"0.00 0.00 89.00 188.00\" xmlns=\"http://www.w3.org/2000/svg\" xmlns:xlink=\"http://www.w3.org/1999/xlink\">\n",
       "<g id=\"graph0\" class=\"graph\" transform=\"scale(1 1) rotate(0) translate(4 184)\">\n",
       "<polygon fill=\"white\" stroke=\"transparent\" points=\"-4,4 -4,-184 85,-184 85,4 -4,4\"/>\n",
       "<!-- C -->\n",
       "<g id=\"node1\" class=\"node\">\n",
       "<title>C</title>\n",
       "<ellipse fill=\"none\" stroke=\"black\" cx=\"54\" cy=\"-162\" rx=\"27\" ry=\"18\"/>\n",
       "<text text-anchor=\"middle\" x=\"54\" y=\"-158.3\" font-family=\"Times New Roman,serif\" font-size=\"14.00\">C</text>\n",
       "</g>\n",
       "<!-- Tc -->\n",
       "<g id=\"node2\" class=\"node\">\n",
       "<title>Tc</title>\n",
       "<ellipse fill=\"none\" stroke=\"black\" cx=\"27\" cy=\"-90\" rx=\"27\" ry=\"18\"/>\n",
       "<text text-anchor=\"middle\" x=\"27\" y=\"-86.3\" font-family=\"Times New Roman,serif\" font-size=\"14.00\">Tc</text>\n",
       "</g>\n",
       "<!-- C&#45;&gt;Tc -->\n",
       "<g id=\"edge1\" class=\"edge\">\n",
       "<title>C&#45;&gt;Tc</title>\n",
       "<path fill=\"none\" stroke=\"black\" d=\"M47.6,-144.41C44.49,-136.34 40.67,-126.43 37.17,-117.35\"/>\n",
       "<polygon fill=\"black\" stroke=\"black\" points=\"40.4,-116.03 33.54,-107.96 33.87,-118.55 40.4,-116.03\"/>\n",
       "</g>\n",
       "<!-- Yc -->\n",
       "<g id=\"node3\" class=\"node\">\n",
       "<title>Yc</title>\n",
       "<ellipse fill=\"none\" stroke=\"black\" cx=\"54\" cy=\"-18\" rx=\"27\" ry=\"18\"/>\n",
       "<text text-anchor=\"middle\" x=\"54\" y=\"-14.3\" font-family=\"Times New Roman,serif\" font-size=\"14.00\">Yc</text>\n",
       "</g>\n",
       "<!-- C&#45;&gt;Yc -->\n",
       "<g id=\"edge2\" class=\"edge\">\n",
       "<title>C&#45;&gt;Yc</title>\n",
       "<path fill=\"none\" stroke=\"black\" d=\"M57.65,-143.91C59.68,-133.57 61.98,-120.09 63,-108 64.34,-92.06 64.34,-87.94 63,-72 62.28,-63.5 60.93,-54.31 59.49,-46.01\"/>\n",
       "<polygon fill=\"black\" stroke=\"black\" points=\"62.91,-45.29 57.65,-36.09 56.03,-46.56 62.91,-45.29\"/>\n",
       "</g>\n",
       "<!-- Tc&#45;&gt;Yc -->\n",
       "<g id=\"edge3\" class=\"edge\">\n",
       "<title>Tc&#45;&gt;Yc</title>\n",
       "<path fill=\"none\" stroke=\"black\" d=\"M33.4,-72.41C36.51,-64.34 40.33,-54.43 43.83,-45.35\"/>\n",
       "<polygon fill=\"black\" stroke=\"black\" points=\"47.13,-46.55 47.46,-35.96 40.6,-44.03 47.13,-46.55\"/>\n",
       "</g>\n",
       "</g>\n",
       "</svg>\n"
      ],
      "text/plain": [
       "<graphviz.graphs.Digraph at 0x25a1a94b2e0>"
      ]
     },
     "execution_count": 291,
     "metadata": {},
     "output_type": "execute_result"
    }
   ],
   "source": [
    "#step2: DOG\n",
    "\n",
    "g = gr.Digraph()\n",
    "g.edge(\"C\", \"Tc\")\n",
    "g.edge(\"C\", \"Yc\")\n",
    "g.edge(\"Tc\", \"Yc\")\n",
    "g"
   ]
  },
  {
   "cell_type": "code",
   "execution_count": 292,
   "id": "13482614",
   "metadata": {},
   "outputs": [],
   "source": [
    "# step3: Monte Carlo experiment"
   ]
  },
  {
   "cell_type": "code",
   "execution_count": 293,
   "id": "e5838969",
   "metadata": {},
   "outputs": [
    {
     "name": "stderr",
     "output_type": "stream",
     "text": [
      "100%|██████████| 2000/2000 [00:01<00:00, 1045.29it/s]\n",
      "100%|██████████| 2000/2000 [00:15<00:00, 130.01it/s]\n"
     ]
    }
   ],
   "source": [
    "## a. don't control for the confounder\n",
    "# the function of DGP: fn_generate_data_con(tau,N,p,p0,corr,flagC)\n",
    "\n",
    "estDict = {}\n",
    "R = 2000\n",
    "for N in [100,1000]:\n",
    "    tauhats = []\n",
    "    sehats = []\n",
    "    for r in tqdm(range(R)):\n",
    "        flagC = 1\n",
    "        Yexp,T = fn_generate_data_con(tau,N,p,corr,flagC)\n",
    "        covars = np.concatenate([T],axis = 1)\n",
    "        mod = sm.OLS(Yexp,T)\n",
    "        res = mod.fit()\n",
    "        tauhat = res.params[0]\n",
    "        se_tauhat = res.HC1_se[0]\n",
    "        \n",
    "        tauhats = tauhats + [tauhat]\n",
    "        sehats = sehats + [se_tauhat]\n",
    "    estDict[N] = {\n",
    "        'tauhat':np.array(tauhats).reshape([len(tauhats),1]),\n",
    "        'sehat':np.array(sehats).reshape([len(sehats),1])\n",
    "    }"
   ]
  },
  {
   "cell_type": "code",
   "execution_count": 294,
   "id": "9c19640f",
   "metadata": {},
   "outputs": [
    {
     "name": "stdout",
     "output_type": "stream",
     "text": [
      "N=100: bias=0.30099598876539174, RMSE=0.3469600483044659, size=0.5495\n",
      "N=1000: bias=0.3028854198393217, RMSE=0.32246815946754315, size=0.97\n"
     ]
    }
   ],
   "source": [
    "tau0 = tau*np.ones([R,1])\n",
    "for N, results in estDict.items():\n",
    "    (bias,rmse,size) = fn_bias_rmse_size(tau0,results['tauhat'],\n",
    "                                         results['sehat'])\n",
    "    print(f'N={N}: bias={bias}, RMSE={rmse}, size={size}')\n",
    "    "
   ]
  },
  {
   "cell_type": "code",
   "execution_count": 295,
   "id": "40f4c508",
   "metadata": {},
   "outputs": [
    {
     "name": "stderr",
     "output_type": "stream",
     "text": [
      "100%|██████████| 2000/2000 [00:01<00:00, 1051.10it/s]\n",
      "100%|██████████| 2000/2000 [00:15<00:00, 131.10it/s]\n"
     ]
    }
   ],
   "source": [
    "## b. control for the confounder\n",
    "# the function of DGP: fn_generate_data_con(tau,N,p,corr,flagC)\n",
    "\n",
    "estDict = {}\n",
    "R = 2000\n",
    "for N in [100,1000]:\n",
    "    tauhats = []\n",
    "    sehats = []\n",
    "    for r in tqdm(range(R)):\n",
    "        flagC = 2\n",
    "        Yexp,T,C =  fn_generate_data_con(tau,N,p,corr,flagC)\n",
    "        covars = np.concatenate([T,C],axis = 1)\n",
    "        mod = sm.OLS(Yexp,covars)\n",
    "        res = mod.fit()\n",
    "        tauhat = res.params[0]\n",
    "        se_tauhat = res.HC1_se[0]\n",
    "        \n",
    "        tauhats = tauhats + [tauhat]\n",
    "        sehats = sehats + [se_tauhat]\n",
    "    estDict[N] = {\n",
    "        'tauhat':np.array(tauhats).reshape([len(tauhats),1]),\n",
    "        'sehat':np.array(sehats).reshape([len(sehats),1])\n",
    "    }"
   ]
  },
  {
   "cell_type": "code",
   "execution_count": 296,
   "id": "892cd274",
   "metadata": {},
   "outputs": [
    {
     "name": "stdout",
     "output_type": "stream",
     "text": [
      "N=100: bias=0.008328061536482863, RMSE=0.14175732376187872, size=0.0545\n",
      "N=1000: bias=-0.0004065027155505163, RMSE=0.04405831828803079, size=0.051\n"
     ]
    }
   ],
   "source": [
    "tau0 = tau*np.ones([R,1])\n",
    "for N, results in estDict.items():\n",
    "    (bias,rmse,size) = fn_bias_rmse_size(tau0,results['tauhat'],\n",
    "                                         results['sehat'])\n",
    "    print(f'N={N}: bias={bias}, RMSE={rmse}, size={size}')"
   ]
  },
  {
   "cell_type": "markdown",
   "id": "6c8fc359",
   "metadata": {},
   "source": [
    "After controlling confounder, the bias of parameter estimation and Root Mean Square Error were both reduced. It can be seen that the accuracy of parameter estimation is improved by increasing the sample size and controlling confounder."
   ]
  },
  {
   "cell_type": "code",
   "execution_count": 297,
   "id": "14152bbd",
   "metadata": {},
   "outputs": [
    {
     "data": {
      "image/svg+xml": [
       "<?xml version=\"1.0\" encoding=\"UTF-8\" standalone=\"no\"?>\n",
       "<!DOCTYPE svg PUBLIC \"-//W3C//DTD SVG 1.1//EN\"\n",
       " \"http://www.w3.org/Graphics/SVG/1.1/DTD/svg11.dtd\">\n",
       "<!-- Generated by graphviz version 3.0.0 (20220226.1711)\n",
       " -->\n",
       "<!-- Pages: 1 -->\n",
       "<svg width=\"116pt\" height=\"188pt\"\n",
       " viewBox=\"0.00 0.00 115.95 188.00\" xmlns=\"http://www.w3.org/2000/svg\" xmlns:xlink=\"http://www.w3.org/1999/xlink\">\n",
       "<g id=\"graph0\" class=\"graph\" transform=\"scale(1 1) rotate(0) translate(4 184)\">\n",
       "<polygon fill=\"white\" stroke=\"transparent\" points=\"-4,4 -4,-184 111.95,-184 111.95,4 -4,4\"/>\n",
       "<!-- background -->\n",
       "<g id=\"node1\" class=\"node\">\n",
       "<title>background</title>\n",
       "<ellipse fill=\"none\" stroke=\"black\" cx=\"54\" cy=\"-162\" rx=\"53.89\" ry=\"18\"/>\n",
       "<text text-anchor=\"middle\" x=\"54\" y=\"-158.3\" font-family=\"Times New Roman,serif\" font-size=\"14.00\">background</text>\n",
       "</g>\n",
       "<!-- edu -->\n",
       "<g id=\"node2\" class=\"node\">\n",
       "<title>edu</title>\n",
       "<ellipse fill=\"none\" stroke=\"black\" cx=\"27\" cy=\"-90\" rx=\"27\" ry=\"18\"/>\n",
       "<text text-anchor=\"middle\" x=\"27\" y=\"-86.3\" font-family=\"Times New Roman,serif\" font-size=\"14.00\">edu</text>\n",
       "</g>\n",
       "<!-- background&#45;&gt;edu -->\n",
       "<g id=\"edge1\" class=\"edge\">\n",
       "<title>background&#45;&gt;edu</title>\n",
       "<path fill=\"none\" stroke=\"black\" d=\"M47.46,-144.05C44.38,-136.06 40.63,-126.33 37.18,-117.4\"/>\n",
       "<polygon fill=\"black\" stroke=\"black\" points=\"40.34,-115.86 33.48,-107.79 33.81,-118.38 40.34,-115.86\"/>\n",
       "</g>\n",
       "<!-- wage -->\n",
       "<g id=\"node3\" class=\"node\">\n",
       "<title>wage</title>\n",
       "<ellipse fill=\"none\" stroke=\"black\" cx=\"54\" cy=\"-18\" rx=\"29.5\" ry=\"18\"/>\n",
       "<text text-anchor=\"middle\" x=\"54\" y=\"-14.3\" font-family=\"Times New Roman,serif\" font-size=\"14.00\">wage</text>\n",
       "</g>\n",
       "<!-- background&#45;&gt;wage -->\n",
       "<g id=\"edge2\" class=\"edge\">\n",
       "<title>background&#45;&gt;wage</title>\n",
       "<path fill=\"none\" stroke=\"black\" d=\"M57.65,-143.91C59.68,-133.57 61.98,-120.09 63,-108 64.34,-92.06 64.34,-87.94 63,-72 62.28,-63.5 60.93,-54.31 59.49,-46.01\"/>\n",
       "<polygon fill=\"black\" stroke=\"black\" points=\"62.91,-45.29 57.65,-36.09 56.03,-46.56 62.91,-45.29\"/>\n",
       "</g>\n",
       "<!-- edu&#45;&gt;wage -->\n",
       "<g id=\"edge3\" class=\"edge\">\n",
       "<title>edu&#45;&gt;wage</title>\n",
       "<path fill=\"none\" stroke=\"black\" d=\"M33.4,-72.41C36.51,-64.34 40.33,-54.43 43.83,-45.35\"/>\n",
       "<polygon fill=\"black\" stroke=\"black\" points=\"47.13,-46.55 47.46,-35.96 40.6,-44.03 47.13,-46.55\"/>\n",
       "</g>\n",
       "</g>\n",
       "</svg>\n"
      ],
      "text/plain": [
       "<graphviz.graphs.Digraph at 0x25a1a7120d0>"
      ]
     },
     "execution_count": 297,
     "metadata": {},
     "output_type": "execute_result"
    }
   ],
   "source": [
    "#step4: example of confouders\n",
    "\n",
    "g = gr.Digraph()\n",
    "g.edge(\"background\", \"edu\")\n",
    "g.edge(\"background\", \"wage\")\n",
    "g.edge(\"edu\", \"wage\")\n",
    "g"
   ]
  },
  {
   "cell_type": "markdown",
   "id": "ef989f17",
   "metadata": {},
   "source": [
    "For example, when we measure the impact of education on wage, we should consider the sample's family background, such as the social status of parents and other factors. People from privileged backgrounds are more likely to receive better education and earn higher wages with the help of their family background."
   ]
  },
  {
   "cell_type": "markdown",
   "id": "99e80c16",
   "metadata": {},
   "source": [
    "# 3. Selection Bias (variable of the path)"
   ]
  },
  {
   "cell_type": "code",
   "execution_count": 307,
   "id": "fe61c016",
   "metadata": {},
   "outputs": [],
   "source": [
    "# Step1:simulate DGP\n",
    "\n",
    "def fn_generate_data_sb(tau,N,p,corr,flagB):\n",
    "\n",
    "    nvar = p+2\n",
    "    corr = 0.5\n",
    "    \n",
    "    allX = fn_generate_multnorm(N,corr,nvar)\n",
    "    W0 = allX[:,0].reshape([N,1]) \n",
    "    C = allX[:,1].reshape([N,1]) \n",
    "    X = allX[:,2:] \n",
    "    \n",
    "    T = fn_randomize_treatment(N) # choose treated units\n",
    "    err = np.random.normal(0,1,[N,1])\n",
    "    u = np.random.normal(0,1,[N,1])\n",
    "    beta0 = np.random.normal(5,5,[p,1])\n",
    "    \n",
    "    ran = random.sample(range(N), round(N*0.5))\n",
    "    B = np.array([(1 if i in ran and T[i]==1 else 0) for i in range(N)]).reshape([N,1])\n",
    "    \n",
    "    Vb = B + 50*T + u\n",
    "    Yb = 0.0001*Vb + err + tau*T\n",
    "    \n",
    "    if flagB==1:\n",
    "        return (Yb,T)\n",
    "    elif flagB==2:\n",
    "        return (Yb,T,Vb)"
   ]
  },
  {
   "cell_type": "code",
   "execution_count": 308,
   "id": "44d76f35",
   "metadata": {},
   "outputs": [],
   "source": [
    "tau = -20\n",
    "p = 10\n",
    "N = 1000\n",
    "corr = 0.5\n",
    "flagB = 2\n",
    "Yb,T,Vb = fn_generate_data_sb(tau,N,p,corr,flagB)\n",
    "\n",
    "with open('selection bias.csv', 'w') as out_file: \n",
    "    writer = csv.writer(out_file)\n",
    "    writer.writerow(['Yb', 'T', 'Vb'])\n",
    "    for k in range(len(Yab)): \n",
    "        writer.writerow([Yb[k], T[k], Vb[k]])"
   ]
  },
  {
   "cell_type": "code",
   "execution_count": 309,
   "id": "3ad5b78a",
   "metadata": {
    "scrolled": true
   },
   "outputs": [
    {
     "data": {
      "image/svg+xml": [
       "<?xml version=\"1.0\" encoding=\"UTF-8\" standalone=\"no\"?>\n",
       "<!DOCTYPE svg PUBLIC \"-//W3C//DTD SVG 1.1//EN\"\n",
       " \"http://www.w3.org/Graphics/SVG/1.1/DTD/svg11.dtd\">\n",
       "<!-- Generated by graphviz version 3.0.0 (20220226.1711)\n",
       " -->\n",
       "<!-- Pages: 1 -->\n",
       "<svg width=\"89pt\" height=\"188pt\"\n",
       " viewBox=\"0.00 0.00 89.00 188.00\" xmlns=\"http://www.w3.org/2000/svg\" xmlns:xlink=\"http://www.w3.org/1999/xlink\">\n",
       "<g id=\"graph0\" class=\"graph\" transform=\"scale(1 1) rotate(0) translate(4 184)\">\n",
       "<polygon fill=\"white\" stroke=\"transparent\" points=\"-4,4 -4,-184 85,-184 85,4 -4,4\"/>\n",
       "<!-- T -->\n",
       "<g id=\"node1\" class=\"node\">\n",
       "<title>T</title>\n",
       "<ellipse fill=\"none\" stroke=\"black\" cx=\"54\" cy=\"-162\" rx=\"27\" ry=\"18\"/>\n",
       "<text text-anchor=\"middle\" x=\"54\" y=\"-158.3\" font-family=\"Times New Roman,serif\" font-size=\"14.00\">T</text>\n",
       "</g>\n",
       "<!-- Vb -->\n",
       "<g id=\"node2\" class=\"node\">\n",
       "<title>Vb</title>\n",
       "<ellipse fill=\"none\" stroke=\"black\" cx=\"27\" cy=\"-90\" rx=\"27\" ry=\"18\"/>\n",
       "<text text-anchor=\"middle\" x=\"27\" y=\"-86.3\" font-family=\"Times New Roman,serif\" font-size=\"14.00\">Vb</text>\n",
       "</g>\n",
       "<!-- T&#45;&gt;Vb -->\n",
       "<g id=\"edge1\" class=\"edge\">\n",
       "<title>T&#45;&gt;Vb</title>\n",
       "<path fill=\"none\" stroke=\"black\" d=\"M47.6,-144.41C44.49,-136.34 40.67,-126.43 37.17,-117.35\"/>\n",
       "<polygon fill=\"black\" stroke=\"black\" points=\"40.4,-116.03 33.54,-107.96 33.87,-118.55 40.4,-116.03\"/>\n",
       "</g>\n",
       "<!-- Yb -->\n",
       "<g id=\"node3\" class=\"node\">\n",
       "<title>Yb</title>\n",
       "<ellipse fill=\"none\" stroke=\"black\" cx=\"54\" cy=\"-18\" rx=\"27\" ry=\"18\"/>\n",
       "<text text-anchor=\"middle\" x=\"54\" y=\"-14.3\" font-family=\"Times New Roman,serif\" font-size=\"14.00\">Yb</text>\n",
       "</g>\n",
       "<!-- T&#45;&gt;Yb -->\n",
       "<g id=\"edge2\" class=\"edge\">\n",
       "<title>T&#45;&gt;Yb</title>\n",
       "<path fill=\"none\" stroke=\"black\" d=\"M57.65,-143.91C59.68,-133.57 61.98,-120.09 63,-108 64.34,-92.06 64.34,-87.94 63,-72 62.28,-63.5 60.93,-54.31 59.49,-46.01\"/>\n",
       "<polygon fill=\"black\" stroke=\"black\" points=\"62.91,-45.29 57.65,-36.09 56.03,-46.56 62.91,-45.29\"/>\n",
       "</g>\n",
       "<!-- Vb&#45;&gt;Yb -->\n",
       "<g id=\"edge3\" class=\"edge\">\n",
       "<title>Vb&#45;&gt;Yb</title>\n",
       "<path fill=\"none\" stroke=\"black\" d=\"M33.4,-72.41C36.51,-64.34 40.33,-54.43 43.83,-45.35\"/>\n",
       "<polygon fill=\"black\" stroke=\"black\" points=\"47.13,-46.55 47.46,-35.96 40.6,-44.03 47.13,-46.55\"/>\n",
       "</g>\n",
       "</g>\n",
       "</svg>\n"
      ],
      "text/plain": [
       "<graphviz.graphs.Digraph at 0x25a1a6eafd0>"
      ]
     },
     "execution_count": 309,
     "metadata": {},
     "output_type": "execute_result"
    }
   ],
   "source": [
    "# step2: DOG\n",
    "g = gr.Digraph()\n",
    "g.edge(\"T\", \"Vb\")\n",
    "g.edge(\"T\", \"Yb\")\n",
    "g.edge(\"Vb\", \"Yb\")\n",
    "g"
   ]
  },
  {
   "cell_type": "code",
   "execution_count": 310,
   "id": "d44a8263",
   "metadata": {},
   "outputs": [],
   "source": [
    "# step3: Monte Carlo experiment"
   ]
  },
  {
   "cell_type": "code",
   "execution_count": 311,
   "id": "3407519b",
   "metadata": {},
   "outputs": [
    {
     "name": "stderr",
     "output_type": "stream",
     "text": [
      "100%|██████████| 2000/2000 [00:02<00:00, 796.56it/s]\n",
      "100%|██████████| 2000/2000 [00:29<00:00, 68.58it/s]\n"
     ]
    }
   ],
   "source": [
    "# a. control for the variable in between the path from cause to effect\n",
    "# the function of DGP: fn_generate_data_sb(tau,N,p,corr,flagB)\n",
    "\n",
    "estDict = {}\n",
    "R = 2000\n",
    "for N in [100,1000]:\n",
    "    tauhats = []\n",
    "    sehats = []\n",
    "    for r in tqdm(range(R)):\n",
    "        flagB = 2\n",
    "        Yexp,T,Vb = fn_generate_data_sb(tau,N,p,corr,flagB)\n",
    "        covars = np.concatenate([T,Vb],axis = 1)\n",
    "        mod = sm.OLS(Yexp,covars)\n",
    "        res = mod.fit()\n",
    "        tauhat = res.params[0]\n",
    "        se_tauhat = res.HC1_se[0]\n",
    "    \n",
    "        tauhats = tauhats + [tauhat]\n",
    "        sehats = sehats + [se_tauhat]\n",
    "    estDict[N] = {\n",
    "        'tauhat':np.array(tauhats).reshape([len(tauhats),1]),\n",
    "        'sehat':np.array(sehats).reshape([len(sehats),1])\n",
    "    }"
   ]
  },
  {
   "cell_type": "code",
   "execution_count": 312,
   "id": "8e72d4a6",
   "metadata": {},
   "outputs": [
    {
     "name": "stdout",
     "output_type": "stream",
     "text": [
      "N=100: bias=0.08756426750731418, RMSE=4.63829916913248, size=0.049\n",
      "N=1000: bias=0.09384961118131882, RMSE=1.5167065622310856, size=0.0535\n"
     ]
    }
   ],
   "source": [
    "tau0 = tau*np.ones([R,1])\n",
    "for N, results in estDict.items():\n",
    "    (bias,rmse,size) = fn_bias_rmse_size(tau0,results['tauhat'],\n",
    "                                         results['sehat'])\n",
    "    print(f'N={N}: bias={bias}, RMSE={rmse}, size={size}')"
   ]
  },
  {
   "cell_type": "code",
   "execution_count": 313,
   "id": "dab58a54",
   "metadata": {},
   "outputs": [
    {
     "name": "stderr",
     "output_type": "stream",
     "text": [
      "100%|██████████| 2000/2000 [00:02<00:00, 766.93it/s]\n",
      "100%|██████████| 2000/2000 [00:26<00:00, 76.20it/s]\n"
     ]
    }
   ],
   "source": [
    "## b. don't control for variable in between the path from cause to effect\n",
    "# the function of DGP: fn_generate_data_sb(tau,N,p,corr,flagB)\n",
    "\n",
    "estDict = {}\n",
    "R = 2000\n",
    "for N in [100,1000]:\n",
    "    tauhats = []\n",
    "    sehats = []\n",
    "    for r in tqdm(range(R)):\n",
    "        flagB = 1\n",
    "        Yexp,T = fn_generate_data_sb(tau,N,p,corr,flagB)\n",
    "        mod = sm.OLS(Yexp,T)\n",
    "        res = mod.fit()\n",
    "        tauhat = res.params[0]\n",
    "        se_tauhat = res.HC1_se[0]\n",
    "        \n",
    "        tauhats = tauhats + [tauhat]\n",
    "        sehats = sehats + [se_tauhat]\n",
    "    estDict[N] = {\n",
    "        'tauhat':np.array(tauhats).reshape([len(tauhats),1]),\n",
    "        'sehat':np.array(sehats).reshape([len(sehats),1])\n",
    "    }"
   ]
  },
  {
   "cell_type": "code",
   "execution_count": 314,
   "id": "4164b376",
   "metadata": {},
   "outputs": [
    {
     "name": "stdout",
     "output_type": "stream",
     "text": [
      "N=100: bias=0.011479559456317278, RMSE=0.14221069585961824, size=0.0595\n",
      "N=1000: bias=0.0042806180385771865, RMSE=0.043565894273395744, size=0.046\n"
     ]
    }
   ],
   "source": [
    "tau0 = tau*np.ones([R,1])\n",
    "for N, results in estDict.items():\n",
    "    (bias,rmse,size) = fn_bias_rmse_size(tau0,results['tauhat'],\n",
    "                                         results['sehat'])\n",
    "    print(f'N={N}: bias={bias}, RMSE={rmse}, size={size}')"
   ]
  },
  {
   "cell_type": "markdown",
   "id": "3ea6e715",
   "metadata": {},
   "source": [
    "The only main way that a the variable of selection bias in this situation is caused by the treatment. So, it the treatment equals to 0, the variable will also equals to zero, which has been shown in the DGP. And as we see, if we control the variable, we will ignore some effects of treatment on y, resulting in inaccurate coefficient of treatment and high bias. Therefore, as the result shows, when we do not control the variable, the estimated coefficient is more accurate and the bias is smaller.\n"
   ]
  },
  {
   "cell_type": "code",
   "execution_count": 315,
   "id": "662ab46f",
   "metadata": {
    "scrolled": true
   },
   "outputs": [
    {
     "data": {
      "image/svg+xml": [
       "<?xml version=\"1.0\" encoding=\"UTF-8\" standalone=\"no\"?>\n",
       "<!DOCTYPE svg PUBLIC \"-//W3C//DTD SVG 1.1//EN\"\n",
       " \"http://www.w3.org/Graphics/SVG/1.1/DTD/svg11.dtd\">\n",
       "<!-- Generated by graphviz version 3.0.0 (20220226.1711)\n",
       " -->\n",
       "<!-- Pages: 1 -->\n",
       "<svg width=\"116pt\" height=\"188pt\"\n",
       " viewBox=\"0.00 0.00 116.29 188.00\" xmlns=\"http://www.w3.org/2000/svg\" xmlns:xlink=\"http://www.w3.org/1999/xlink\">\n",
       "<g id=\"graph0\" class=\"graph\" transform=\"scale(1 1) rotate(0) translate(4 184)\">\n",
       "<polygon fill=\"white\" stroke=\"transparent\" points=\"-4,4 -4,-184 112.29,-184 112.29,4 -4,4\"/>\n",
       "<!-- intelligence -->\n",
       "<g id=\"node1\" class=\"node\">\n",
       "<title>intelligence</title>\n",
       "<ellipse fill=\"none\" stroke=\"black\" cx=\"50.05\" cy=\"-162\" rx=\"50.09\" ry=\"18\"/>\n",
       "<text text-anchor=\"middle\" x=\"50.05\" y=\"-158.3\" font-family=\"Times New Roman,serif\" font-size=\"14.00\">intelligence</text>\n",
       "</g>\n",
       "<!-- admit -->\n",
       "<g id=\"node2\" class=\"node\">\n",
       "<title>admit</title>\n",
       "<ellipse fill=\"none\" stroke=\"black\" cx=\"50.05\" cy=\"-18\" rx=\"30.59\" ry=\"18\"/>\n",
       "<text text-anchor=\"middle\" x=\"50.05\" y=\"-14.3\" font-family=\"Times New Roman,serif\" font-size=\"14.00\">admit</text>\n",
       "</g>\n",
       "<!-- intelligence&#45;&gt;admit -->\n",
       "<g id=\"edge1\" class=\"edge\">\n",
       "<title>intelligence&#45;&gt;admit</title>\n",
       "<path fill=\"none\" stroke=\"black\" d=\"M46.39,-143.91C44.37,-133.57 42.06,-120.09 41.05,-108 39.7,-92.06 39.7,-87.94 41.05,-72 41.76,-63.5 43.11,-54.31 44.56,-46.01\"/>\n",
       "<polygon fill=\"black\" stroke=\"black\" points=\"48.01,-46.56 46.39,-36.09 41.13,-45.29 48.01,-46.56\"/>\n",
       "</g>\n",
       "<!-- GPA -->\n",
       "<g id=\"node3\" class=\"node\">\n",
       "<title>GPA</title>\n",
       "<ellipse fill=\"none\" stroke=\"black\" cx=\"79.05\" cy=\"-90\" rx=\"29.5\" ry=\"18\"/>\n",
       "<text text-anchor=\"middle\" x=\"79.05\" y=\"-86.3\" font-family=\"Times New Roman,serif\" font-size=\"14.00\">GPA</text>\n",
       "</g>\n",
       "<!-- intelligence&#45;&gt;GPA -->\n",
       "<g id=\"edge2\" class=\"edge\">\n",
       "<title>intelligence&#45;&gt;GPA</title>\n",
       "<path fill=\"none\" stroke=\"black\" d=\"M57.07,-144.05C60.41,-135.97 64.5,-126.12 68.23,-117.11\"/>\n",
       "<polygon fill=\"black\" stroke=\"black\" points=\"71.5,-118.37 72.09,-107.79 65.03,-115.69 71.5,-118.37\"/>\n",
       "</g>\n",
       "<!-- GPA&#45;&gt;admit -->\n",
       "<g id=\"edge3\" class=\"edge\">\n",
       "<title>GPA&#45;&gt;admit</title>\n",
       "<path fill=\"none\" stroke=\"black\" d=\"M72.17,-72.41C68.83,-64.34 64.72,-54.43 60.96,-45.35\"/>\n",
       "<polygon fill=\"black\" stroke=\"black\" points=\"64.13,-43.86 57.07,-35.96 57.66,-46.53 64.13,-43.86\"/>\n",
       "</g>\n",
       "</g>\n",
       "</svg>\n"
      ],
      "text/plain": [
       "<graphviz.graphs.Digraph at 0x25a1a6ea610>"
      ]
     },
     "execution_count": 315,
     "metadata": {},
     "output_type": "execute_result"
    }
   ],
   "source": [
    "# step4: example of selection bias\n",
    "g = gr.Digraph()\n",
    "g.edge(\"intelligence\", \"admit\")\n",
    "g.edge(\"intelligence\", \"GPA\")\n",
    "g.edge(\"GPA\", \"admit\")\n",
    "g"
   ]
  },
  {
   "cell_type": "markdown",
   "id": "5847aa8e",
   "metadata": {},
   "source": [
    "For example, we wanted to study how intelligence affects the probability of college admission. If we add the GPA variable, when we analyze both grades and intelligence level, it will affect the results of the analysis. Because intelligence level can affect GPA and thus affect the probability of admission."
   ]
  },
  {
   "cell_type": "code",
   "execution_count": null,
   "id": "a4f96d1a",
   "metadata": {},
   "outputs": [],
   "source": []
  },
  {
   "cell_type": "code",
   "execution_count": null,
   "id": "2077dafe",
   "metadata": {},
   "outputs": [],
   "source": []
  }
 ],
 "metadata": {
  "kernelspec": {
   "display_name": "Python 3 (ipykernel)",
   "language": "python",
   "name": "python3"
  },
  "language_info": {
   "codemirror_mode": {
    "name": "ipython",
    "version": 3
   },
   "file_extension": ".py",
   "mimetype": "text/x-python",
   "name": "python",
   "nbconvert_exporter": "python",
   "pygments_lexer": "ipython3",
   "version": "3.9.7"
  }
 },
 "nbformat": 4,
 "nbformat_minor": 5
}
